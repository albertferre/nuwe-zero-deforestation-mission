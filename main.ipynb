{
 "cells": [
  {
   "cell_type": "code",
   "execution_count": null,
   "metadata": {},
   "outputs": [],
   "source": [
    "import pandas as pd\n",
    "from IPython.display import Image\n",
    "import shutil\n",
    "import os\n",
    "\n",
    "from fastai.vision.all import *"
   ]
  },
  {
   "cell_type": "code",
   "execution_count": null,
   "metadata": {},
   "outputs": [],
   "source": [
    "PATH_IMG_TRAIN = 'data/input/train_folder/'\n",
    "DEFAULT_FIGSIZE = (7,6)\n",
    "\n",
    "labels = {\n",
    "    0: 'plantation',\n",
    "    1: 'grassland',\n",
    "    2: 'smallholder_agriculture',\n",
    "}"
   ]
  },
  {
   "cell_type": "code",
   "execution_count": null,
   "metadata": {},
   "outputs": [],
   "source": [
    "df_test = pd.read_csv('data/input/raw/test.csv')\n",
    "df_train = pd.read_csv('data/input/raw/train.csv')\n",
    "\n",
    "df_test.example_path = df_test.example_path.str.replace('train_test_data','data/input/raw')\n",
    "df_train.example_path = df_train.example_path.str.replace('train_test_data','data/input/raw')\n",
    "\n",
    "df_train.head()"
   ]
  },
  {
   "cell_type": "code",
   "execution_count": null,
   "metadata": {},
   "outputs": [],
   "source": [
    "filename = df_train.iloc[0].example_path\n",
    "\n",
    "Image(filename=filename) "
   ]
  },
  {
   "cell_type": "markdown",
   "metadata": {},
   "source": [
    "# Prepare data"
   ]
  },
  {
   "cell_type": "code",
   "execution_count": null,
   "metadata": {},
   "outputs": [],
   "source": [
    "labels[label]"
   ]
  },
  {
   "cell_type": "code",
   "execution_count": null,
   "metadata": {},
   "outputs": [],
   "source": [
    "\n",
    "for label in labels:\n",
    "    os.makedirs(os.path.dirname(f'data/input/train_folder/{labels[label]}/'), exist_ok=True)\n",
    "\n",
    "for example_path, label in zip(df_train.example_path, df_train.label):\n",
    "    source_file = example_path\n",
    "    filename = source_file.split('/')[-1]\n",
    "    destination_file = f'data/input/train_folder/{labels[label]}/{labels[label]}-{filename}'\n",
    "    shutil.copyfile(source_file, destination_file)"
   ]
  },
  {
   "cell_type": "code",
   "execution_count": null,
   "metadata": {},
   "outputs": [],
   "source": [
    "image_categories = os.listdir(PATH_IMG_TRAIN)\n",
    "print(f\"Categories: {image_categories}\")"
   ]
  },
  {
   "cell_type": "code",
   "execution_count": null,
   "metadata": {},
   "outputs": [],
   "source": [
    "def GetLabel(fileName):\n",
    "    return fileName.split('-')[0]"
   ]
  },
  {
   "cell_type": "code",
   "execution_count": null,
   "metadata": {},
   "outputs": [],
   "source": [
    "# Defining data loader\n",
    "dls = ImageDataLoaders.from_name_func(\n",
    "    PATH_IMG_TRAIN,\n",
    "    get_image_files(PATH_IMG_TRAIN),\n",
    "    valid_pct=0.2,\n",
    "    seed=42,\n",
    "    label_func=GetLabel,\n",
    "    item_tfms=Resize(224),\n",
    "    device=torch.device('cpu'),\n",
    "    shuffle_train=True\n",
    "    )\n",
    "\n",
    "dls.train.show_batch(figsize=DEFAULT_FIGSIZE)"
   ]
  }
 ],
 "metadata": {
  "kernelspec": {
   "display_name": "Python 3.9.12 ('base')",
   "language": "python",
   "name": "python3"
  },
  "language_info": {
   "codemirror_mode": {
    "name": "ipython",
    "version": 3
   },
   "file_extension": ".py",
   "mimetype": "text/x-python",
   "name": "python",
   "nbconvert_exporter": "python",
   "pygments_lexer": "ipython3",
   "version": "3.9.12"
  },
  "orig_nbformat": 4,
  "vscode": {
   "interpreter": {
    "hash": "19d1d53a962d236aa061289c2ac16dc8e6d9648c89fe79f459ae9a3493bc67b4"
   }
  }
 },
 "nbformat": 4,
 "nbformat_minor": 2
}
